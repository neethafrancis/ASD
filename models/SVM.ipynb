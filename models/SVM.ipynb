{
  "cells": [
    {
      "cell_type": "code",
      "execution_count": 7,
      "metadata": {},
      "outputs": [
        {
          "ename": "ModuleNotFoundError",
          "evalue": "No module named 'pandas'",
          "output_type": "error",
          "traceback": [
            "\u001b[1;31m---------------------------------------------------------------------------\u001b[0m",
            "\u001b[1;31mModuleNotFoundError\u001b[0m                       Traceback (most recent call last)",
            "Cell \u001b[1;32mIn[7], line 1\u001b[0m\n\u001b[1;32m----> 1\u001b[0m \u001b[38;5;28;01mimport\u001b[39;00m \u001b[38;5;21;01mpandas\u001b[39;00m \u001b[38;5;28;01mas\u001b[39;00m \u001b[38;5;21;01mpd\u001b[39;00m\n\u001b[0;32m      2\u001b[0m \u001b[38;5;28;01mimport\u001b[39;00m \u001b[38;5;21;01mnumpy\u001b[39;00m \u001b[38;5;28;01mas\u001b[39;00m \u001b[38;5;21;01mnp\u001b[39;00m\n\u001b[0;32m      3\u001b[0m \u001b[38;5;28;01mfrom\u001b[39;00m \u001b[38;5;21;01msklearn\u001b[39;00m\u001b[38;5;21;01m.\u001b[39;00m\u001b[38;5;21;01mpreprocessing\u001b[39;00m \u001b[38;5;28;01mimport\u001b[39;00m StandardScaler\n",
            "\u001b[1;31mModuleNotFoundError\u001b[0m: No module named 'pandas'"
          ]
        }
      ],
      "source": [
        "import pandas as pd\n",
        "import numpy as np\n",
        "from sklearn.preprocessing import StandardScaler\n",
        "from sklearn.model_selection import train_test_split\n",
        "from sklearn.datasets import make_classification\n",
        "from sklearn import svm\n",
        "from sklearn.metrics import accuracy_score,precision_score, recall_score, f1_score, confusion_matrix"
      ]
    },
    {
      "cell_type": "code",
      "execution_count": 5,
      "metadata": {
        "colab": {
          "base_uri": "https://localhost:8080/",
          "height": 206
        },
        "id": "FvLfmVa1Jpq6",
        "outputId": "edc7d982-54ea-45fe-97e8-0f8350ab816c"
      },
      "outputs": [
        {
          "ename": "NameError",
          "evalue": "name 'pd' is not defined",
          "output_type": "error",
          "traceback": [
            "\u001b[1;31m---------------------------------------------------------------------------\u001b[0m",
            "\u001b[1;31mNameError\u001b[0m                                 Traceback (most recent call last)",
            "Cell \u001b[1;32mIn[5], line 1\u001b[0m\n\u001b[1;32m----> 1\u001b[0m df\u001b[38;5;241m=\u001b[39m \u001b[43mpd\u001b[49m\u001b[38;5;241m.\u001b[39mread_csv(\u001b[38;5;124m\"\u001b[39m\u001b[38;5;124mQuest_data.csv\u001b[39m\u001b[38;5;124m\"\u001b[39m)\n\u001b[0;32m      3\u001b[0m df\u001b[38;5;241m.\u001b[39mreplace(\u001b[38;5;124m'\u001b[39m\u001b[38;5;124m?\u001b[39m\u001b[38;5;124m'\u001b[39m, pd\u001b[38;5;241m.\u001b[39mNA, inplace\u001b[38;5;241m=\u001b[39m\u001b[38;5;28;01mTrue\u001b[39;00m)\n\u001b[0;32m      5\u001b[0m \u001b[38;5;66;03m# List of categorical columns for which you want to impute missing values\u001b[39;00m\n",
            "\u001b[1;31mNameError\u001b[0m: name 'pd' is not defined"
          ]
        }
      ],
      "source": [
        "df= pd.read_csv(\"Quest_data.csv\")\n",
        "\n",
        "df.replace('?', pd.NA, inplace=True)\n",
        "\n",
        "# List of categorical columns for which you want to impute missing values\n",
        "categorical_cols = ['ethnicity', 'relation']\n",
        "\n",
        "# Impute missing values with the mode of each column\n",
        "for col in categorical_cols:\n",
        "    mode_val = df[col].mode().iloc[0]  # mode() returns a Series, so use iloc[0] to get the first value\n",
        "    df[col].fillna(mode_val, inplace=True)\n",
        "\n",
        "\n",
        "numerical_cols = ['age']  # Add all your numerical columns here\n",
        "df[numerical_cols] = df[numerical_cols].apply(pd.to_numeric, errors='coerce')\n",
        "\n",
        "# Replace missing values with the mean for each numerical column\n",
        "for col in numerical_cols:\n",
        "    mean_val = df[col].mean()\n",
        "    df[col].fillna(mean_val, inplace=True)\n",
        "\n",
        "columns_to_replace = ['jundice', 'Class/ASD','gender','relation']\n",
        "df[columns_to_replace] = df[columns_to_replace].replace({'Self':1,'self':1,'Parent':1,'Healthcare':1,'Health care professional':1,'Health Care Professional':1,'Others':0,'Relative':0,'family member':0,'f':0, 'm':1, 'YES': 1, 'NO': 0, 'yes':1,'no':0,'Yes':1,'No':0})\n",
        "\n",
        "df=df.drop('ethnicity',axis=1)\n",
        "\n",
        "df.head()\n",
        "\n",
        "#df.to_csv(\"Preprocessed_data.csv\", index=False)"
      ]
    },
    {
      "cell_type": "code",
      "execution_count": null,
      "metadata": {
        "colab": {
          "base_uri": "https://localhost:8080/"
        },
        "id": "SOl-Q8_vxU2c",
        "outputId": "2cc32ae7-e296-4902-e8b7-456054b6bdd0"
      },
      "outputs": [
        {
          "name": "stdout",
          "output_type": "stream",
          "text": [
            "[[-0.84152725  0.87560129 -1.30875756 -0.51605613  1.14940014]\n",
            " [-0.84152725  0.74709681  0.76408346 -0.51605613  1.14940014]\n",
            " [ 1.18831564  0.93985353  0.76408346  1.93777369  1.14940014]\n",
            " ...\n",
            " [ 1.18831564 -0.66645247  0.76408346  1.93777369 -0.87001903]\n",
            " [-0.84152725 -0.66645247  0.76408346 -0.51605613 -0.87001903]\n",
            " [ 1.18831564 -0.66645247  0.76408346  1.93777369 -0.87001903]]\n"
          ]
        }
      ],
      "source": [
        "X = df.drop(columns = 'Class/ASD', axis=1)\n",
        "Y = df['Class/ASD']\n",
        "\n",
        "scaler = StandardScaler()\n",
        "scaler.fit(X)\n",
        "standardized_data = scaler.transform(X)\n",
        "print(standardized_data)"
      ]
    },
    {
      "cell_type": "code",
      "execution_count": null,
      "metadata": {
        "colab": {
          "base_uri": "https://localhost:8080/"
        },
        "id": "4QvUCReEzLy9",
        "outputId": "6e3a2c60-3969-4ca2-e057-4ee71eb3ec6b"
      },
      "outputs": [
        {
          "name": "stdout",
          "output_type": "stream",
          "text": [
            "(2154, 5) (1723, 5) (431, 5)\n"
          ]
        }
      ],
      "source": [
        "X = standardized_data\n",
        "Y = df['Class/ASD']\n",
        "X_train, X_test, Y_train, Y_test = train_test_split(X,Y, test_size = 0.2, stratify=Y, random_state=2)\n",
        "print(X.shape, X_train.shape, X_test.shape)"
      ]
    },
    {
      "cell_type": "code",
      "execution_count": null,
      "metadata": {
        "colab": {
          "base_uri": "https://localhost:8080/"
        },
        "id": "ykzVZOPiz0GT",
        "outputId": "28c67643-95b0-4dfb-942c-c82fe66a1850"
      },
      "outputs": [
        {
          "name": "stdout",
          "output_type": "stream",
          "text": [
            "Accuracy score of the training data :  0.893789901334881\n",
            "Accuracy score of the test data :  0.8955916473317865\n"
          ]
        }
      ],
      "source": [
        "classifier = svm.SVC(kernel='linear',)\n",
        "classifier.fit(X_train, Y_train)\n",
        "\n",
        "# accuracy score on the training data\n",
        "X_train_prediction = classifier.predict(X_train)\n",
        "training_data_accuracy = accuracy_score(X_train_prediction, Y_train)\n",
        "print('Accuracy score of the training data : ', training_data_accuracy)\n",
        "\n",
        "# accuracy score on the test data\n",
        "X_test_prediction = classifier.predict(X_test)\n",
        "test_data_accuracy = accuracy_score(X_test_prediction, Y_test)\n",
        "print('Accuracy score of the test data : ', test_data_accuracy)"
      ]
    },
    {
      "cell_type": "code",
      "execution_count": null,
      "metadata": {
        "colab": {
          "base_uri": "https://localhost:8080/"
        },
        "id": "B9AB-8iFSD8v",
        "outputId": "ffd99ebf-0997-4186-d9db-f8b3d7af4e14"
      },
      "outputs": [
        {
          "name": "stdout",
          "output_type": "stream",
          "text": [
            "Precision: 1.0000\n",
            "Recall: 0.7991\n",
            "F1 Score: 0.8883\n",
            "Confusion Matrix:\n",
            "[[207   0]\n",
            " [ 45 179]]\n"
          ]
        }
      ],
      "source": [
        "precision = precision_score(Y_test, X_test_prediction)\n",
        "recall = recall_score(Y_test, X_test_prediction)\n",
        "f1 = f1_score(Y_test, X_test_prediction)\n",
        "\n",
        "# Print the results\n",
        "print(f'Precision: {precision:.4f}')\n",
        "print(f'Recall: {recall:.4f}')\n",
        "print(f'F1 Score: {f1:.4f}')\n",
        "\n",
        "# Print the confusion matrix\n",
        "conf_matrix = confusion_matrix(Y_test, X_test_prediction)\n",
        "print('Confusion Matrix:')\n",
        "print(conf_matrix)"
      ]
    },
    {
      "cell_type": "code",
      "execution_count": null,
      "metadata": {
        "colab": {
          "base_uri": "https://localhost:8080/"
        },
        "id": "YBwD9IzT0EIl",
        "outputId": "89afd369-4cbe-4a13-a362-b17a80017d93"
      },
      "outputs": [
        {
          "name": "stdout",
          "output_type": "stream",
          "text": [
            "[[-0.84152725  0.61859233 -1.30875756 -0.51605613  1.14940014]]\n",
            "[0]\n",
            "The person is not with Autism spectrum disorder\n"
          ]
        },
        {
          "name": "stderr",
          "output_type": "stream",
          "text": [
            "/usr/local/lib/python3.10/dist-packages/sklearn/base.py:439: UserWarning: X does not have valid feature names, but StandardScaler was fitted with feature names\n",
            "  warnings.warn(\n"
          ]
        }
      ],
      "source": [
        "def preprocess_input(input_data):\n",
        "    replacement_mapping = {\n",
        "        'Self': 1, 'Parent': 1, 'Healthcare Professional': 1,\n",
        "        'Others': 0, 'Relative': 0, 'Female': 0,\n",
        "        'Male': 1, 'YES': 1, 'NO': 0, 'yes': 1, 'no': 0, 'Yes': 1, 'No': 0\n",
        "    }\n",
        "    mapped_data = tuple(replacement_mapping.get(value, value) for value in input_data)\n",
        "    return mapped_data\n",
        "\n",
        "input_data = (0, 22, 'Female', 'No', 'Self')\n",
        "preprocessed_input_data = preprocess_input(input_data)\n",
        "\n",
        "input_data_as_numpy_array = np.asarray(preprocessed_input_data)\n",
        "\n",
        "# reshape the array as we are predicting for one instance\n",
        "input_data_reshaped = input_data_as_numpy_array.reshape(1,-1)\n",
        "\n",
        "# standardize the input data\n",
        "std_data = scaler.transform(input_data_reshaped)\n",
        "print(std_data)\n",
        "\n",
        "prediction = classifier.predict(std_data)\n",
        "print(prediction)\n",
        "\n",
        "if (prediction[0] == 0):\n",
        "  print('The person is not with Autism spectrum disorder')\n",
        "else:\n",
        "  print('The person is with Autism spectrum disorder')"
      ]
    }
  ],
  "metadata": {
    "colab": {
      "provenance": []
    },
    "kernelspec": {
      "display_name": "Python 3",
      "name": "python3"
    },
    "language_info": {
      "codemirror_mode": {
        "name": "ipython",
        "version": 3
      },
      "file_extension": ".py",
      "mimetype": "text/x-python",
      "name": "python",
      "nbconvert_exporter": "python",
      "pygments_lexer": "ipython3",
      "version": "3.10.5"
    }
  },
  "nbformat": 4,
  "nbformat_minor": 0
}
